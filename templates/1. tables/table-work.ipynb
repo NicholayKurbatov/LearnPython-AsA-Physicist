{
 "cells": [
  {
   "cell_type": "code",
   "execution_count": null,
   "id": "4298248a",
   "metadata": {},
   "outputs": [],
   "source": [
    "import pandas as pd\n",
    "import numpy as np"
   ]
  },
  {
   "attachments": {},
   "cell_type": "markdown",
   "id": "dddccb49",
   "metadata": {},
   "source": [
    "Тип данных pd.DataFrame представляет собой двумерную таблицу с данными. Имеет индекс и набор столбцов (возможно, имеющих разные типы). \n",
    "\n",
    "Таблицу можно построить, например, из словаря, значениями в котором являются одномерные наборы данных."
   ]
  },
  {
   "cell_type": "code",
   "execution_count": null,
   "id": "27dbb805-c892-436f-acd9-fda41f70207e",
   "metadata": {},
   "outputs": [],
   "source": [
    "# загрузка таблички\n",
    "pass_link = 'https://www.dropbox.com/s/lyzcuxu1pdrw5qb/titanic_data.csv?dl=1'\n",
    "data = pd.read_csv(pass_link) "
   ]
  },
  {
   "cell_type": "code",
   "execution_count": null,
   "id": "0a9db40d",
   "metadata": {},
   "outputs": [],
   "source": [
    "print('Всего пассажиров: ', len(data))\n",
    "data.head(4)"
   ]
  },
  {
   "cell_type": "code",
   "execution_count": null,
   "id": "50f523d6",
   "metadata": {},
   "outputs": [],
   "source": [
    "# выбор нужных колонок\n",
    "data[['Name', 'Age', 'Sex']]"
   ]
  },
  {
   "cell_type": "code",
   "execution_count": null,
   "id": "9c189c52",
   "metadata": {},
   "outputs": [],
   "source": [
    "# выбор нужных строк\n",
    "data.iloc[:1]"
   ]
  },
  {
   "cell_type": "code",
   "execution_count": null,
   "id": "5c347b82",
   "metadata": {},
   "outputs": [],
   "source": [
    "# выбор нужных строк c конца\n",
    "data.iloc[-2:]"
   ]
  },
  {
   "cell_type": "code",
   "execution_count": null,
   "id": "400f77fd",
   "metadata": {},
   "outputs": [],
   "source": [
    "# переименование колонок\n",
    "data = data.rename(columns={\n",
    "    \"SibSp\": \"братьев/систер/муж/жена\",\n",
    "    \"Parch\": \"детей/родителей\",\n",
    "    \"Fare\": \"цена билета\"\n",
    "})\n",
    "data.head(2)"
   ]
  },
  {
   "cell_type": "code",
   "execution_count": null,
   "id": "348c9dd8",
   "metadata": {},
   "outputs": [],
   "source": [
    "# число строк, столбцов\n",
    "data.shape"
   ]
  },
  {
   "cell_type": "code",
   "execution_count": null,
   "id": "e9819127",
   "metadata": {},
   "outputs": [],
   "source": [
    "# типы колонок, пропуски в данных\n",
    "data.info()"
   ]
  },
  {
   "cell_type": "code",
   "execution_count": null,
   "id": "f8d0eefd",
   "metadata": {},
   "outputs": [],
   "source": [
    "# основные статистики по колонкам\n",
    "data.describe()"
   ]
  },
  {
   "cell_type": "code",
   "execution_count": null,
   "id": "2441f639",
   "metadata": {},
   "outputs": [],
   "source": [
    "# максимальный, минимальный возраст пассажиров\n",
    "data.Age.max(), data.Age.min(), round(data.Age.mean(), 2)"
   ]
  },
  {
   "cell_type": "code",
   "execution_count": null,
   "id": "600b8c57",
   "metadata": {},
   "outputs": [],
   "source": [
    "# число мужчин/женщин\n",
    "data['Sex'].value_counts() #-- очень полезная функция!"
   ]
  },
  {
   "cell_type": "code",
   "execution_count": null,
   "id": "7e6f7712",
   "metadata": {},
   "outputs": [],
   "source": [
    "# сгруппируем записи по классам пассажиров, \n",
    "# в каждой группе посчитаем средний возраст\n",
    "data.groupby('Pclass', as_index=False)['Age'].mean()"
   ]
  },
  {
   "cell_type": "code",
   "execution_count": null,
   "id": "5b62ad12",
   "metadata": {},
   "outputs": [],
   "source": [
    "# скачиваем табличку по летальности\n",
    "surv_link = 'https://www.dropbox.com/s/v35x9i6a1tc7emm/titanic_surv.csv?dl=1'\n",
    "surv_data = pd.read_csv(surv_link)\n",
    "surv_data.head()"
   ]
  },
  {
   "cell_type": "code",
   "execution_count": null,
   "id": "294dcade",
   "metadata": {},
   "outputs": [],
   "source": [
    "# создаем колонку PassengerId из индексов в табличке surv_data\n",
    "surv_data['PassengerId'] = surv_data.index"
   ]
  },
  {
   "cell_type": "code",
   "execution_count": null,
   "id": "f860cf1b",
   "metadata": {},
   "outputs": [],
   "source": [
    "# соединяем таблички по колонке 'PassengerId'\n",
    "data = data.merge(surv_data, on='PassengerId')\n",
    "data.head(2)"
   ]
  },
  {
   "cell_type": "code",
   "execution_count": null,
   "id": "e78fa3ec",
   "metadata": {},
   "outputs": [],
   "source": [
    "# посчитаем кол-во выживших\n",
    "surv_pass = data[data['Survived'] == 1]\n",
    "print('кол-во выживших на титанике: ', surv_pass['Survived'].sum())"
   ]
  },
  {
   "cell_type": "code",
   "execution_count": null,
   "id": "1cdfe14b",
   "metadata": {},
   "outputs": [],
   "source": [
    "# посчитаем кол-во выживших мужчин и женщин\n",
    "data.groupby(['Sex', 'Survived'])['PassengerId'].count()"
   ]
  }
 ],
 "metadata": {
  "kernelspec": {
   "display_name": "Python 3 (ipykernel)",
   "language": "python",
   "name": "python3"
  },
  "language_info": {
   "codemirror_mode": {
    "name": "ipython",
    "version": 3
   },
   "file_extension": ".py",
   "mimetype": "text/x-python",
   "name": "python",
   "nbconvert_exporter": "python",
   "pygments_lexer": "ipython3",
   "version": "3.11.3"
  }
 },
 "nbformat": 4,
 "nbformat_minor": 5
}
