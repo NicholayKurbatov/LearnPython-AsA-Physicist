{
 "cells": [
  {
   "cell_type": "code",
   "execution_count": null,
   "metadata": {},
   "outputs": [],
   "source": [
    "%matplotlib widget\n",
    "\n",
    "import pandas as pd\n",
    "import numpy as np\n",
    "import matplotlib.pyplot as plt\n",
    "import seaborn as sns"
   ]
  },
  {
   "cell_type": "code",
   "execution_count": null,
   "metadata": {},
   "outputs": [],
   "source": [
    "# загрузка таблички\n",
    "pass_link = 'https://www.dropbox.com/s/lyzcuxu1pdrw5qb/titanic_data.csv?dl=1'\n",
    "data = pd.read_csv(pass_link) \n",
    "# скачиваем табличку по летальности\n",
    "surv_link = 'https://www.dropbox.com/s/v35x9i6a1tc7emm/titanic_surv.csv?dl=1'\n",
    "surv_data = pd.read_csv(surv_link)\n",
    "# создаем колонку PassengerId из индексов в табличке surv_data\n",
    "surv_data['PassengerId'] = surv_data.index\n",
    "# соединяем таблички по колонке 'PassengerId'\n",
    "data = data.merge(surv_data, on='PassengerId')"
   ]
  },
  {
   "cell_type": "code",
   "execution_count": null,
   "metadata": {},
   "outputs": [],
   "source": [
    "# точечный график\n",
    "fig = plt.figure()\n",
    "plt.scatter(data['Age'], data['Fare'], c='tomato', alpha=0.4, label='данные титаника', zorder=2, )\n",
    "plt.title('Точечный график')\n",
    "plt.ylabel('Стоимость билета')\n",
    "plt.xlabel('Возраст пассажира')\n",
    "plt.grid(ls='--', zorder=1)\n",
    "plt.legend()"
   ]
  },
  {
   "cell_type": "code",
   "execution_count": null,
   "metadata": {},
   "outputs": [],
   "source": [
    "# загрузим датасет планет из библиотеки seaborn \n",
    "planets = sns.load_dataset(\"planets\")\n",
    "\n",
    "g = sns.relplot(\n",
    "    data=planets,\n",
    "    x=\"distance\", y=\"orbital_period\",\n",
    "    hue=\"year\", size=\"mass\",\n",
    "    palette=sns.cubehelix_palette(rot=-.2, as_cmap=True), \n",
    "    sizes=(10, 200),\n",
    ")\n",
    "g.set(xscale=\"log\", yscale=\"log\")\n",
    "g.ax.xaxis.grid(True, \"minor\", linewidth=.25)\n",
    "g.ax.yaxis.grid(True, \"minor\", linewidth=.25)\n",
    "g.despine(left=True, bottom=True)"
   ]
  },
  {
   "cell_type": "code",
   "execution_count": null,
   "metadata": {},
   "outputs": [],
   "source": [
    "# линейный график\n",
    "rs = np.random.RandomState(365)\n",
    "values = rs.randn(365, 2).cumsum(axis=0)\n",
    "t = np.arange(0, 365)\n",
    "\n",
    "fig = plt.figure(figsize=(8, 4))\n",
    "plt.plot(t, values[:,0], lw=3)\n",
    "plt.plot(t, values[:,1], lw=2, ls='-.')\n",
    "plt.fill_between(t, [min(values[:,0])]*len(t), values[:,0], color='blue', alpha=0.3)"
   ]
  },
  {
   "cell_type": "code",
   "execution_count": null,
   "metadata": {},
   "outputs": [],
   "source": [
    "# график разброса  \n",
    "# инициализация и построение \n",
    "fig = plt.figure(figsize=(8, 5))\n",
    "sns.boxplot(\n",
    "    data=data,\n",
    "    x=\"Age\", y=\"Sex\", hue=\"Survived\",\n",
    "    width=.6, palette=\"vlag\",\n",
    "    zorder=3,\n",
    ")\n",
    "sns.despine(offset=5, trim=True)\n",
    "plt.grid(ls='--', lw=0.5, zorder=1)"
   ]
  },
  {
   "cell_type": "code",
   "execution_count": null,
   "metadata": {},
   "outputs": [],
   "source": [
    "# график разброса  \n",
    "# инициализация и построение stripplot\n",
    "fig = plt.figure(figsize=(8, 4))\n",
    "sns.violinplot(\n",
    "    data=data,\n",
    "    x=\"Age\", y=\"Sex\", hue=\"Survived\",\n",
    "    split=True, \n",
    "    inner=\"quart\", \n",
    "    linewidth=1,\n",
    "    linecolor='k',\n",
    "    palette={0: \"tomato\", 1: \".85\"}, \n",
    "    zorder=3\n",
    ")\n",
    "plt.grid(ls='--', lw=0.5, zorder=1)"
   ]
  },
  {
   "cell_type": "code",
   "execution_count": null,
   "metadata": {},
   "outputs": [],
   "source": [
    "# график разброса с контурным графиком\n",
    "# просимулируем двумерное распределение гаусса\n",
    "n = 10000\n",
    "mean = [0, 0]\n",
    "cov = [(2, .4), (.4, .2)]\n",
    "rng = np.random.RandomState(0)\n",
    "x, y = rng.multivariate_normal(mean, cov, n).T\n",
    "\n",
    "# создаем несколько графиков\n",
    "f, ax = plt.subplots(figsize=(6, 6))\n",
    "\n",
    "# комбинированная гистограмма и диаграмма рассеяния с контурами плотности\n",
    "sns.scatterplot(x=x, y=y, s=5, color=\".15\", zorder=2)\n",
    "sns.histplot(x=x, y=y, bins=50, pthresh=.1, cmap=\"mako\", zorder=3)\n",
    "sns.kdeplot(x=x, y=y, levels=5, color=\"w\", linewidths=1, zorder=4)\n",
    "ax.grid(ls='--', zorder=1)\n",
    "ax.set_ylabel('случайная гаус. величина y', fontsize=12)\n",
    "ax.set_xlabel('случайная гаус. величина x', fontsize=12)"
   ]
  },
  {
   "cell_type": "code",
   "execution_count": null,
   "metadata": {},
   "outputs": [],
   "source": [
    "# график трехмерной поверхности\n",
    "def foo(x, y):\n",
    "    \"\"\"функция трехмерной поверхности\"\"\"\n",
    "    return -(x**2 + y**2)\n",
    "\n",
    "\n",
    "n = 50\n",
    "x = np.linspace(-5, 5, n)\n",
    "y = np.linspace(-5, 5, n)\n",
    "\n",
    "x_3d, y_3d = np.meshgrid(x, y)\n",
    "z_3d = foo(x_3d, y_3d)\n",
    "\n",
    "fig = plt.figure(figsize=(10, 10))\n",
    "sns.set_style('whitegrid')\n",
    "axes = plt.axes(projection='3d')\n",
    "axes.plot_surface(x_3d, y_3d, z_3d, cmap='plasma')\n",
    "axes.set_xlabel('X', fontsize=12)\n",
    "axes.set_ylabel('Y', fontsize=12)\n",
    "axes.set_zlabel('Z', fontsize=12)\n",
    "plt.show()"
   ]
  },
  {
   "cell_type": "code",
   "execution_count": null,
   "metadata": {},
   "outputs": [],
   "source": []
  }
 ],
 "metadata": {
  "kernelspec": {
   "display_name": "Python 3",
   "language": "python",
   "name": "python3"
  },
  "language_info": {
   "codemirror_mode": {
    "name": "ipython",
    "version": 3
   },
   "file_extension": ".py",
   "mimetype": "text/x-python",
   "name": "python",
   "nbconvert_exporter": "python",
   "pygments_lexer": "ipython3",
   "version": "3.11.3"
  },
  "orig_nbformat": 4
 },
 "nbformat": 4,
 "nbformat_minor": 2
}
