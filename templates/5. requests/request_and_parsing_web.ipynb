{
 "cells": [
  {
   "cell_type": "code",
   "execution_count": 1,
   "metadata": {},
   "outputs": [],
   "source": [
    "import pandas as pd\n",
    "import numpy as np\n",
    "import requests\n",
    "from bs4 import BeautifulSoup"
   ]
  },
  {
   "attachments": {},
   "cell_type": "markdown",
   "metadata": {},
   "source": [
    "### Задача 1 \n",
    "Написать функцию `get_strong(html)`, принимающую на вход html-страницу в виде длинной строки, записанной в переменную `html`, и возвращающую строчку, содержащуюся в первом теге `strong`.\n",
    "\n",
    "Примеры см. в тестах.\n",
    "\n",
    "**Подсказка.** Вы можете создать объект `BeautifulSoup`, передав ему строку с html в качестве параметра. Например:\n",
    "\n",
    "```python\n",
    "from bs4 import BeautifulSoup\n",
    "page = BeautifulSoup(\"<html><body><p>Hello</p></body></html>\", \"html.parser\")\n",
    "print(page.p)\n",
    "```"
   ]
  },
  {
   "cell_type": "code",
   "execution_count": 2,
   "metadata": {
    "deletable": false,
    "nbgrader": {
     "checksum": "96e2d9ee572ff6fd6a52a9c990932b1f",
     "grade": false,
     "grade_id": "get_strong",
     "locked": false,
     "solution": true
    }
   },
   "outputs": [],
   "source": [
    "def get_strong(html):\n",
    "    # init parser\n",
    "    parser = BeautifulSoup(html, 'html.parser')\n",
    "    # find text by need tag\n",
    "    need_s = parser.find(name=\"strong\")\n",
    "    return need_s.get_text() # return need field"
   ]
  },
  {
   "cell_type": "code",
   "execution_count": 3,
   "metadata": {
    "deletable": false,
    "nbgrader": {
     "checksum": "c3e6a3e8a003d2020a5b76869ad3786f",
     "grade": true,
     "grade_id": "get_strong_t",
     "locked": true,
     "points": 1,
     "solution": false
    }
   },
   "outputs": [],
   "source": [
    "#проверка\n",
    "assert get_strong(\"<html><body><p>Hello, <strong>World</strong>!\") == \"World\"\n",
    "html = \"\"\"<html>\n",
    "    <body>\n",
    "        <p>\n",
    "            Hello,\n",
    "            <strong>\n",
    "                World\n",
    "            </strong>\n",
    "        </p>\n",
    "    </body>\n",
    "</html>\"\"\"\n",
    "assert get_strong(html).strip() == \"World\"\n",
    "assert get_strong(\"<html><body><p>tag &lt;strong&gt; is used in HTML\\n to make letters <strong>stronger</strong>\") == \"stronger\"\n",
    "assert get_strong(\"<html><body><strong>One\\nTwo</strong></body></html>\") == \"One\\nTwo\""
   ]
  },
  {
   "attachments": {},
   "cell_type": "markdown",
   "metadata": {},
   "source": [
    "### Задача 2\n",
    "Написать функцию `any_news_about_harry(url)`, принимающую на вход адрес веб-страницы `url`, загружающую эту веб-страницу и проверяющую, встречается ли в ней слово `Harry` (с большой буквы). Функция должна возвращать `True`, если встречается, и `False` в противном случае. Также функция должна возвращать `False`, если страницу не удалось открыть (например, была получена ошибка *404 Not Found*.)\n",
    "\n",
    "**Подсказка.** Чтобы загрузить страницу, нужно использовать библиотеку `requests`:\n",
    "\n",
    "    import requests\n",
    "    r = requests.get(url)\n",
    "\n",
    "Содержимое страницы затем окажется в `r.text`. Проверить, что запрос увенчался успехом, можно так:\n",
    "\n",
    "    if r:\n",
    "        # увенчался успехом\n",
    "        \n",
    "В этой задаче вам не нужно использовать `BeautifulSoup`. Чтобы проверить наличие подстроки в строке, можно использовать `in`. (Например, `'ell' in \"Hello\"` вернёт True.)"
   ]
  },
  {
   "cell_type": "code",
   "execution_count": 4,
   "metadata": {
    "deletable": false,
    "nbgrader": {
     "checksum": "6de428dc2197c8023ce26426f4c9c96f",
     "grade": false,
     "grade_id": "any_news_about_harry",
     "locked": false,
     "solution": true
    }
   },
   "outputs": [],
   "source": [
    "def any_news_about_harry(url):\n",
    "    try:\n",
    "        # make request\n",
    "        r = requests.get(url)\n",
    "        # check condition\n",
    "        if 'Harry' in r.text:\n",
    "            return True\n",
    "        else:\n",
    "            return False\n",
    "    except:\n",
    "        return False"
   ]
  },
  {
   "cell_type": "code",
   "execution_count": 5,
   "metadata": {
    "deletable": false,
    "nbgrader": {
     "checksum": "a02613b29bd15063492a47a68484a5ce",
     "grade": true,
     "grade_id": "any_news_about_harry_t1",
     "locked": true,
     "points": 1,
     "solution": false
    }
   },
   "outputs": [],
   "source": [
    "# проверка\n",
    "assert any_news_about_harry(\"https://en.wikipedia.org/w/index.php?title=J._K._Rowling&oldid=694008857\")\n",
    "assert any_news_about_harry(\"https://en.wikipedia.org/w/index.php?title=Star_Wars&oldid=694701430\")\n",
    "assert not any_news_about_harry(\"https://en.wikipedia.org/w/index.php?title=Darth_Vader&oldid=694617684\")"
   ]
  },
  {
   "attachments": {},
   "cell_type": "markdown",
   "metadata": {},
   "source": [
    "### Задача 3\n",
    "Для вставки картинок в HTML используется тег `<img>`, содержащий параметр `src` — адрес файла с картинкой. Например, `<img src=\"https://upload.wikimedia.org/wikipedia/commons/b/bd/Struthio_camelus_portrait_Whipsnade_Zoo.jpg\"/>`. Написать функцию `all_images_src(html)`, принимающую на вход длинную строчку с HTML-документом, а возвращающую список адресов всех картинок, встречающихся в этом документе (в том порядке, в котором они встречаются в документе).\n",
    "\n",
    "**Подсказка.** Для обращения к атрибутам тега нужно использовать квадратные скобки, как если бы тег был словарём."
   ]
  },
  {
   "cell_type": "code",
   "execution_count": 6,
   "metadata": {
    "deletable": false,
    "nbgrader": {
     "checksum": "ac31f7292e65693d987546a8fe8cd550",
     "grade": false,
     "grade_id": "all_images_src",
     "locked": false,
     "solution": true
    }
   },
   "outputs": [],
   "source": [
    "def all_images_src(html):\n",
    "    # init parser\n",
    "    parser = BeautifulSoup(html, 'html.parser')\n",
    "    # find text by need tag\n",
    "    need_s = parser.find_all({'img'})\n",
    "    # get all images\n",
    "    imgs = [need_s[i]['src'] for i in range(len(need_s))]\n",
    "    return imgs"
   ]
  },
  {
   "cell_type": "code",
   "execution_count": 7,
   "metadata": {
    "deletable": false,
    "nbgrader": {
     "checksum": "b41be9f653f86e545ce3182b2b664a27",
     "grade": true,
     "grade_id": "all_images_src_test",
     "locked": true,
     "points": 1,
     "solution": false
    }
   },
   "outputs": [],
   "source": [
    "# проверка\n",
    "assert all_images_src('<html><body><img src=\"https://upload.wikimedia.org/wikipedia/commons/b/bd/Struthio_camelus_portrait_Whipsnade_Zoo.jpg\"/>') == [\"https://upload.wikimedia.org/wikipedia/commons/b/bd/Struthio_camelus_portrait_Whipsnade_Zoo.jpg\"]\n",
    "assert all_images_src( ('<html><body><IMG src=\"test.jpg\">\\n'\n",
    "                        '<p>Some text\\n'\n",
    "                        '<img SRC=\\'well.png\\'>\\n'\n",
    "                        '</p></body></html>') ) == [\"test.jpg\", \"well.png\"]\n",
    "assert all_images_src('<html><body><p><a href=\"link.html\">'\n",
    "                      '<img alt=\"Just a test image\" src=\"this is a test.jpg\"><ul>' + \"\\n\"\n",
    "                      .join(\"<li><img src='img%04i.png'></li>\" % i for i in range(1000)) + \n",
    "                      \"</ul></p></body></html>\"\n",
    "                     ) == ['this is a test.jpg'] + ['img%04i.png' % i for i in range(1000)]"
   ]
  },
  {
   "attachments": {},
   "cell_type": "markdown",
   "metadata": {},
   "source": [
    "### Задача 4\n",
    "\n",
    "Написать функцию `city_tz(name)`, принимающую на вход название города и возвращающую строку, содержащую часовой пояс, действующий в этом городе (например, `'UTC+3'`), согласно данным русской Википедии. Если такого города Википедия не знает, или если у города не указан часовой пояс `None`.\n",
    "\n",
    "Предполагается, что вы будете решать эту задачу, обрабатывая HTML-код веб-страницы, а не исходный код статей, и не будете пользоваться сторонними библиотеками (кроме `requests`, `BeautifulSoup`).\n",
    "\n",
    "**Подсказка.** Можно передать адрес страницы напрямую в `requests.get`, например `https://ru.wikipedia.org/wiki/Санкт-Петербург` [ссылка](https://ru.wikipedia.org/wiki/Санкт-Петербург)."
   ]
  },
  {
   "cell_type": "code",
   "execution_count": 8,
   "metadata": {},
   "outputs": [],
   "source": [
    "import re\n",
    "\n",
    "def city_tz(name):\n",
    "    # city wiki template\n",
    "    wiki_template = 'https://ru.wikipedia.org/wiki/{}'\n",
    "    # get html by wiki url\n",
    "    req = requests.get(wiki_template.format(name))\n",
    "\n",
    "    # init parser\n",
    "    parser = BeautifulSoup(req.text, 'html.parser')\n",
    "    # find pattenr with '/wiki/UTC'\n",
    "    # <span data-wikidata-property-id=\"P421\" class=\"no-wikidata\"><a href=\"/wiki/UTC%2B3:00\" title=\"UTC+3:00\">UTC+3:00</a></span>\n",
    "    need_s = parser.find('a', href=re.compile(\"/wiki/UTC%\"), title=re.compile(\"UTC\"))\n",
    "    # if search data not exist return None \n",
    "    try:\n",
    "        return need_s.get_text()\n",
    "    except:\n",
    "        return None"
   ]
  },
  {
   "cell_type": "code",
   "execution_count": 9,
   "metadata": {},
   "outputs": [],
   "source": [
    "#Проверка\n",
    "res = [\n",
    "    (\"Абакан\", \"UTC+7:00\"),\n",
    "    (\"Анадырь\", \"UTC+12:00\"),\n",
    "    (\"Киров (Кировская область)\", \"UTC+3:00\"),\n",
    "    (\"Южно-Сахалинск\", \"UTC+11:00\"),\n",
    "    (\"Усть-Каменоустюгск\", None),\n",
    "]\n",
    "for city, site in res:\n",
    "    assert city_tz(city) == site, (site, city_tz(city))"
   ]
  },
  {
   "attachments": {},
   "cell_type": "markdown",
   "metadata": {},
   "source": [
    "### Задача 5\n",
    "Написать функцию `get_all_headings(url)`, принимающую на вход адрес страницы в Википедии и возвращающую список, состоящий из названий разделов статьи (в порядке появления в статье). Если такой страницы не существует, функция должна вернуть список, состоящей из строки `\"Not found\"`.\n",
    "\n",
    "**Подсказка.** С помощью функции вашего браузера *inspect element* или аналогичной, исследуйте, в каких тегах и с какими классами находятся искомые заголовки. Не во всех страницах есть содержание! Например, ваш код должен корректно обрабатывать [эту страницу](https://ru.wikipedia.org/w/index.php?title=User%3AIlya_Voyager%2Fsandbox%2Fh2test&oldid=75055744)."
   ]
  },
  {
   "cell_type": "code",
   "execution_count": 10,
   "metadata": {
    "deletable": false,
    "nbgrader": {
     "checksum": "7de6f7591a77cc46ffe6563aa4d90d18",
     "grade": false,
     "grade_id": "get_all_headings",
     "locked": false,
     "solution": true
    }
   },
   "outputs": [],
   "source": [
    "def get_all_headings(url):\n",
    "    # get html by wiki url\n",
    "    req = requests.get(url)\n",
    "\n",
    "    # init parser\n",
    "    parser = BeautifulSoup(req.text, 'html.parser')\n",
    "    # find pattenr \n",
    "    need_s = parser.find_all('h2')\n",
    "    s = []\n",
    "    for i in range(len(need_s)):\n",
    "        v = str(need_s[i]).split('span class=\"mw-headline\" id=\"')[-1].split('\">')[0]\n",
    "        if '<h2' not in v:\n",
    "            s += [v.replace('_', ' ')]\n",
    "            \n",
    "    # if search data not exist return None \n",
    "    if len(s) != 0:\n",
    "        return s\n",
    "    else:\n",
    "        return [\"Not found\"]"
   ]
  },
  {
   "cell_type": "code",
   "execution_count": 11,
   "metadata": {
    "deletable": false,
    "nbgrader": {
     "checksum": "186a7736386141c3907d74da9d6dccee",
     "grade": true,
     "grade_id": "get_all_headings_test",
     "locked": true,
     "points": 2,
     "solution": false
    }
   },
   "outputs": [],
   "source": [
    "#проверка\n",
    "from urllib.parse import urlencode\n",
    "entrypoint = \"https://ru.wikipedia.org/w/index.php?\"\n",
    "def mkurl(title, oldid):\n",
    "    return entrypoint+urlencode(dict(title=title, oldid=oldid))\n",
    "assert get_all_headings(mkurl(\"Северовирджинская кампания\",75043192)) == ['Предыстория',\n",
    "                                                                          'Силы сторон',\n",
    "                                                                          'Сражения',\n",
    "                                                                          'Последствия',\n",
    "                                                                          'Примечания',\n",
    "                                                                          'Литература',\n",
    "                                                                          'Ссылки']\n",
    "\n",
    "assert get_all_headings(mkurl('User:Ilya_Voyager/sandbox/h2test',\"75055744\")) == ['Заголовок', 'Ещё один заголовок', 'Третий заголовок']\n",
    "assert get_all_headings(mkurl('User:Ilya_Voyager/This Page Will Never Exist', \"\")) == [\"Not found\"]\n",
    "del urlencode, mkurl"
   ]
  },
  {
   "attachments": {},
   "cell_type": "markdown",
   "metadata": {},
   "source": [
    "### Задача 6\n",
    "Необходимо загрузить таблицу со списком *действующих* станций Петербургского метрополитена со [страницы](https://ru.wikipedia.org/wiki/Список_станций_Петербургского_метрополитена) в датафрейм `subway_spb`:\n",
    "* Необходимые столбцы: Название станции, Дата открытия, Глубина, Тип станции\n",
    "* Преобразовать дату открытия в `datetime`\n",
    "\n",
    "На основании полученного датафрейма найти:\n",
    "* Самую старую станцию и её возраст в годах (с учётом неполных лет)\n",
    "* Самую глубокую станцию\n",
    "* Распределение количества станций по типу (в виде `pd.DataFrame` или `pd.Series`)\n",
    "* Самый распространенный тип станции\n",
    "\n",
    "**Подсказка** Воспольщуйтесь функцией `pd.read_html()`. Если не получается передать в функцию `url` напрямую, сначала загрузите страницу с помощью `requests.get()`, а после передайте результат запроса в виде текста в `pd.read_html()`."
   ]
  },
  {
   "cell_type": "code",
   "execution_count": 4,
   "metadata": {},
   "outputs": [],
   "source": [
    "import pandas as pd\n",
    "import numpy as np\n",
    "import datetime\n",
    "import re"
   ]
  },
  {
   "cell_type": "code",
   "execution_count": 21,
   "metadata": {
    "tags": []
   },
   "outputs": [],
   "source": [
    "url = 'https://ru.wikipedia.org/wiki/Список_станций_Петербургского_метрополитена'\n",
    "req = requests.get(url)\n",
    "\n",
    "# init parser\n",
    "main_parser = BeautifulSoup(req.text, 'html.parser')\n",
    "st_info = main_parser.find_all('td')\n",
    "# st_names = main_parser.find_all()('a', title=re.compile('станция метро'))\n",
    "\n",
    "stations = []\n",
    "dates_open = []\n",
    "st_type = []\n",
    "depths = []\n",
    "    \n",
    "# find station names\n",
    "for i in range(1, len(st_info), 8):\n",
    "    stations += [st_info[i].get_text()]\n",
    "\n",
    "# find open date\n",
    "for i in range(2, len(st_info), 8):\n",
    "    dates_open += [st_info[i].get_text()]\n",
    "    \n",
    "# find type station \n",
    "for i in range(3, len(st_info), 8):\n",
    "    st_type += [st_info[i].get_text()]\n",
    "    \n",
    "# find depth station \n",
    "for i in range(4, len(st_info), 8):\n",
    "    depths += [st_info[i].get_text()]"
   ]
  },
  {
   "cell_type": "code",
   "execution_count": 25,
   "metadata": {},
   "outputs": [],
   "source": [
    "# create dataframe\n",
    "df = pd.DataFrame({'station': stations[:len(dates_open)], 'dates_open': dates_open, 'type': st_type, 'depth': depths})\n",
    "\n",
    "# make depth int\n",
    "df.depth = pd.to_numeric(df.depth, errors='coerce')\n",
    "df = df.dropna()\n",
    "df.depth = df.depth.astype(int)\n",
    "\n",
    "# filter type station\n",
    "df.type = df.type.str.split('\\n').str[0]"
   ]
  },
  {
   "cell_type": "code",
   "execution_count": 27,
   "metadata": {},
   "outputs": [],
   "source": [
    "# date open to date format\n",
    "def change_ru_month(x):\n",
    "    month_dict = {'января': '01',\n",
    "                  'февраля': '02', \n",
    "                  'марта': '03',\n",
    "                  'апреля': '04', \n",
    "                  'мая': '05',\n",
    "                  'июня': '06',\n",
    "                  'июля': '07',\n",
    "                  'августа': '08',\n",
    "                  'сентября': '09',\n",
    "                  'октября': '10',\n",
    "                  'ноября': '11',\n",
    "                  'декабря': '12'}\n",
    "    s = x.split(' ')\n",
    "    if len(s) != 3:\n",
    "        return np.nan\n",
    "    else:\n",
    "        s[1] = month_dict[s[1]]\n",
    "        return '-'.join(s)\n",
    "    \n",
    "\n",
    "df.dates_open = df.dates_open.apply(change_ru_month)\n",
    "df = df.dropna()\n",
    "df.dates_open = pd.to_datetime(df.dates_open)"
   ]
  },
  {
   "cell_type": "code",
   "execution_count": 28,
   "metadata": {},
   "outputs": [
    {
     "data": {
      "text/plain": [
       "72"
      ]
     },
     "execution_count": 28,
     "metadata": {},
     "output_type": "execute_result"
    }
   ],
   "source": [
    "# всего станций в метро спб -- 72. как и у нас\n",
    "df.shape[0]"
   ]
  },
  {
   "cell_type": "code",
   "execution_count": 29,
   "metadata": {},
   "outputs": [
    {
     "data": {
      "text/plain": [
       "Timestamp('1955-11-15 00:00:00')"
      ]
     },
     "execution_count": 29,
     "metadata": {},
     "output_type": "execute_result"
    }
   ],
   "source": [
    "df.dates_open.min()"
   ]
  },
  {
   "cell_type": "code",
   "execution_count": 30,
   "metadata": {},
   "outputs": [
    {
     "data": {
      "text/html": [
       "<div>\n",
       "<style scoped>\n",
       "    .dataframe tbody tr th:only-of-type {\n",
       "        vertical-align: middle;\n",
       "    }\n",
       "\n",
       "    .dataframe tbody tr th {\n",
       "        vertical-align: top;\n",
       "    }\n",
       "\n",
       "    .dataframe thead th {\n",
       "        text-align: right;\n",
       "    }\n",
       "</style>\n",
       "<table border=\"1\" class=\"dataframe\">\n",
       "  <thead>\n",
       "    <tr style=\"text-align: right;\">\n",
       "      <th></th>\n",
       "      <th>station</th>\n",
       "      <th>dates_open</th>\n",
       "      <th>type</th>\n",
       "      <th>depth</th>\n",
       "    </tr>\n",
       "  </thead>\n",
       "  <tbody>\n",
       "    <tr>\n",
       "      <th>0</th>\n",
       "      <td>Девяткино до 1 июля 1992 «Комсомольская»\\n</td>\n",
       "      <td>1978-12-29</td>\n",
       "      <td>крытая наземная</td>\n",
       "      <td>0</td>\n",
       "    </tr>\n",
       "    <tr>\n",
       "      <th>1</th>\n",
       "      <td>Гражданский проспект\\n</td>\n",
       "      <td>1978-12-29</td>\n",
       "      <td>колонная</td>\n",
       "      <td>64</td>\n",
       "    </tr>\n",
       "    <tr>\n",
       "      <th>2</th>\n",
       "      <td>Академическая\\n</td>\n",
       "      <td>1975-12-31</td>\n",
       "      <td>колонная</td>\n",
       "      <td>64</td>\n",
       "    </tr>\n",
       "    <tr>\n",
       "      <th>3</th>\n",
       "      <td>Политехническая\\n</td>\n",
       "      <td>1975-12-31</td>\n",
       "      <td>односводчатая</td>\n",
       "      <td>65</td>\n",
       "    </tr>\n",
       "    <tr>\n",
       "      <th>4</th>\n",
       "      <td>Площадь Мужества\\n</td>\n",
       "      <td>1975-12-31</td>\n",
       "      <td>односводчатая</td>\n",
       "      <td>67</td>\n",
       "    </tr>\n",
       "    <tr>\n",
       "      <th>...</th>\n",
       "      <td>...</td>\n",
       "      <td>...</td>\n",
       "      <td>...</td>\n",
       "      <td>...</td>\n",
       "    </tr>\n",
       "    <tr>\n",
       "      <th>67</th>\n",
       "      <td>Бухарестская\\n</td>\n",
       "      <td>2012-12-28</td>\n",
       "      <td>пилонная</td>\n",
       "      <td>65</td>\n",
       "    </tr>\n",
       "    <tr>\n",
       "      <th>68</th>\n",
       "      <td>Международная\\n</td>\n",
       "      <td>2012-12-28</td>\n",
       "      <td>колонно-стеновая</td>\n",
       "      <td>65</td>\n",
       "    </tr>\n",
       "    <tr>\n",
       "      <th>69</th>\n",
       "      <td>Проспект Славы\\n</td>\n",
       "      <td>2019-03-10</td>\n",
       "      <td>пилонная</td>\n",
       "      <td>59</td>\n",
       "    </tr>\n",
       "    <tr>\n",
       "      <th>70</th>\n",
       "      <td>Дунайская\\n</td>\n",
       "      <td>2019-03-10</td>\n",
       "      <td>колонная многопролётная мелкого заложения</td>\n",
       "      <td>17</td>\n",
       "    </tr>\n",
       "    <tr>\n",
       "      <th>71</th>\n",
       "      <td>Шушары\\n</td>\n",
       "      <td>2019-03-10</td>\n",
       "      <td>крытая наземная</td>\n",
       "      <td>0</td>\n",
       "    </tr>\n",
       "  </tbody>\n",
       "</table>\n",
       "<p>72 rows × 4 columns</p>\n",
       "</div>"
      ],
      "text/plain": [
       "                                       station dates_open  \\\n",
       "0   Девяткино до 1 июля 1992 «Комсомольская»\\n 1978-12-29   \n",
       "1                       Гражданский проспект\\n 1978-12-29   \n",
       "2                              Академическая\\n 1975-12-31   \n",
       "3                            Политехническая\\n 1975-12-31   \n",
       "4                           Площадь Мужества\\n 1975-12-31   \n",
       "..                                         ...        ...   \n",
       "67                              Бухарестская\\n 2012-12-28   \n",
       "68                             Международная\\n 2012-12-28   \n",
       "69                            Проспект Славы\\n 2019-03-10   \n",
       "70                                 Дунайская\\n 2019-03-10   \n",
       "71                                    Шушары\\n 2019-03-10   \n",
       "\n",
       "                                         type  depth  \n",
       "0                             крытая наземная      0  \n",
       "1                                    колонная     64  \n",
       "2                                    колонная     64  \n",
       "3                               односводчатая     65  \n",
       "4                               односводчатая     67  \n",
       "..                                        ...    ...  \n",
       "67                                   пилонная     65  \n",
       "68                           колонно-стеновая     65  \n",
       "69                                   пилонная     59  \n",
       "70  колонная многопролётная мелкого заложения     17  \n",
       "71                            крытая наземная      0  \n",
       "\n",
       "[72 rows x 4 columns]"
      ]
     },
     "execution_count": 30,
     "metadata": {},
     "output_type": "execute_result"
    }
   ],
   "source": [
    "df"
   ]
  },
  {
   "cell_type": "markdown",
   "metadata": {},
   "source": [
    "На основании полученного датафрейма найти:\n",
    "\n",
    "* Самую старую станцию и её возраст в годах (с учётом неполных лет)\n",
    "* Самую глубокую станцию\n",
    "* Распределение количества станций по типу (в виде pd.DataFrame или pd.Series)\n",
    "* Самый распространенный тип станции"
   ]
  },
  {
   "cell_type": "code",
   "execution_count": 31,
   "metadata": {},
   "outputs": [
    {
     "data": {
      "text/html": [
       "<div>\n",
       "<style scoped>\n",
       "    .dataframe tbody tr th:only-of-type {\n",
       "        vertical-align: middle;\n",
       "    }\n",
       "\n",
       "    .dataframe tbody tr th {\n",
       "        vertical-align: top;\n",
       "    }\n",
       "\n",
       "    .dataframe thead th {\n",
       "        text-align: right;\n",
       "    }\n",
       "</style>\n",
       "<table border=\"1\" class=\"dataframe\">\n",
       "  <thead>\n",
       "    <tr style=\"text-align: right;\">\n",
       "      <th></th>\n",
       "      <th>station</th>\n",
       "      <th>dates_open</th>\n",
       "      <th>type</th>\n",
       "      <th>depth</th>\n",
       "      <th>age</th>\n",
       "    </tr>\n",
       "  </thead>\n",
       "  <tbody>\n",
       "    <tr>\n",
       "      <th>9</th>\n",
       "      <td>Площадь Восстания\\n</td>\n",
       "      <td>1955-11-15</td>\n",
       "      <td>пилонная</td>\n",
       "      <td>58</td>\n",
       "      <td>24508 days 10:11:46.364778</td>\n",
       "    </tr>\n",
       "    <tr>\n",
       "      <th>10</th>\n",
       "      <td>Владимирская\\n</td>\n",
       "      <td>1955-11-15</td>\n",
       "      <td>пилонная с укороченным центральным залом</td>\n",
       "      <td>55</td>\n",
       "      <td>24508 days 10:11:46.364778</td>\n",
       "    </tr>\n",
       "    <tr>\n",
       "      <th>12</th>\n",
       "      <td>Технологический институт\\n</td>\n",
       "      <td>1955-11-15</td>\n",
       "      <td>колонная</td>\n",
       "      <td>60</td>\n",
       "      <td>24508 days 10:11:46.364778</td>\n",
       "    </tr>\n",
       "    <tr>\n",
       "      <th>13</th>\n",
       "      <td>Балтийская\\n</td>\n",
       "      <td>1955-11-15</td>\n",
       "      <td>колонная</td>\n",
       "      <td>57</td>\n",
       "      <td>24508 days 10:11:46.364778</td>\n",
       "    </tr>\n",
       "    <tr>\n",
       "      <th>14</th>\n",
       "      <td>Нарвская\\n</td>\n",
       "      <td>1955-11-15</td>\n",
       "      <td>пилонная</td>\n",
       "      <td>52</td>\n",
       "      <td>24508 days 10:11:46.364778</td>\n",
       "    </tr>\n",
       "    <tr>\n",
       "      <th>15</th>\n",
       "      <td>Кировский завод\\n</td>\n",
       "      <td>1955-11-15</td>\n",
       "      <td>колонная</td>\n",
       "      <td>50</td>\n",
       "      <td>24508 days 10:11:46.364778</td>\n",
       "    </tr>\n",
       "    <tr>\n",
       "      <th>16</th>\n",
       "      <td>Автово\\n</td>\n",
       "      <td>1955-11-15</td>\n",
       "      <td>колонная трёхпролётная мелкого заложения</td>\n",
       "      <td>12</td>\n",
       "      <td>24508 days 10:11:46.364778</td>\n",
       "    </tr>\n",
       "  </tbody>\n",
       "</table>\n",
       "</div>"
      ],
      "text/plain": [
       "                       station dates_open  \\\n",
       "9          Площадь Восстания\\n 1955-11-15   \n",
       "10              Владимирская\\n 1955-11-15   \n",
       "12  Технологический институт\\n 1955-11-15   \n",
       "13                Балтийская\\n 1955-11-15   \n",
       "14                  Нарвская\\n 1955-11-15   \n",
       "15           Кировский завод\\n 1955-11-15   \n",
       "16                    Автово\\n 1955-11-15   \n",
       "\n",
       "                                        type  depth                        age  \n",
       "9                                   пилонная     58 24508 days 10:11:46.364778  \n",
       "10  пилонная с укороченным центральным залом     55 24508 days 10:11:46.364778  \n",
       "12                                  колонная     60 24508 days 10:11:46.364778  \n",
       "13                                  колонная     57 24508 days 10:11:46.364778  \n",
       "14                                  пилонная     52 24508 days 10:11:46.364778  \n",
       "15                                  колонная     50 24508 days 10:11:46.364778  \n",
       "16  колонная трёхпролётная мелкого заложения     12 24508 days 10:11:46.364778  "
      ]
     },
     "execution_count": 31,
     "metadata": {},
     "output_type": "execute_result"
    }
   ],
   "source": [
    "# Самую старую станцию и её возраст в годах (с учётом неполных лет)\n",
    "df['age'] = (datetime.datetime.now() - df.dates_open)\n",
    "df[df.age == df.age.max()]"
   ]
  },
  {
   "cell_type": "code",
   "execution_count": 32,
   "metadata": {},
   "outputs": [
    {
     "data": {
      "text/html": [
       "<div>\n",
       "<style scoped>\n",
       "    .dataframe tbody tr th:only-of-type {\n",
       "        vertical-align: middle;\n",
       "    }\n",
       "\n",
       "    .dataframe tbody tr th {\n",
       "        vertical-align: top;\n",
       "    }\n",
       "\n",
       "    .dataframe thead th {\n",
       "        text-align: right;\n",
       "    }\n",
       "</style>\n",
       "<table border=\"1\" class=\"dataframe\">\n",
       "  <thead>\n",
       "    <tr style=\"text-align: right;\">\n",
       "      <th></th>\n",
       "      <th>station</th>\n",
       "      <th>dates_open</th>\n",
       "      <th>type</th>\n",
       "      <th>depth</th>\n",
       "      <th>age</th>\n",
       "    </tr>\n",
       "  </thead>\n",
       "  <tbody>\n",
       "    <tr>\n",
       "      <th>62</th>\n",
       "      <td>Адмиралтейская\\n</td>\n",
       "      <td>2011-12-28</td>\n",
       "      <td>колонно-стеновая</td>\n",
       "      <td>86</td>\n",
       "      <td>4011 days 10:11:46.364778</td>\n",
       "    </tr>\n",
       "  </tbody>\n",
       "</table>\n",
       "</div>"
      ],
      "text/plain": [
       "             station dates_open              type  depth  \\\n",
       "62  Адмиралтейская\\n 2011-12-28  колонно-стеновая     86   \n",
       "\n",
       "                         age  \n",
       "62 4011 days 10:11:46.364778  "
      ]
     },
     "execution_count": 32,
     "metadata": {},
     "output_type": "execute_result"
    }
   ],
   "source": [
    "# Самую глубокую станцию\n",
    "df[df.depth == df.depth.max()]"
   ]
  },
  {
   "cell_type": "code",
   "execution_count": 160,
   "metadata": {},
   "outputs": [
    {
     "data": {
      "text/plain": [
       "односводчатая                                14\n",
       "пилонная                                     11\n",
       "колонная                                     10\n",
       "закрытого типа                               10\n",
       "колонно-стеновая                              8\n",
       "пилонная с укороченным центральным залом      7\n",
       "крытая наземная                               5\n",
       "колонная трёхпролётная мелкого заложения      3\n",
       "колонная многопролётная мелкого заложения     3\n",
       "двухъярусная пересадочная односводчатая       1\n",
       "Name: type, dtype: int64"
      ]
     },
     "execution_count": 160,
     "metadata": {},
     "output_type": "execute_result"
    }
   ],
   "source": [
    "# Распределение количества станций по типу (в виде pd.DataFrame или pd.Series)\n",
    "df.type.value_counts()"
   ]
  },
  {
   "cell_type": "code",
   "execution_count": 33,
   "metadata": {},
   "outputs": [
    {
     "data": {
      "text/plain": [
       "'односводчатая'"
      ]
     },
     "execution_count": 33,
     "metadata": {},
     "output_type": "execute_result"
    }
   ],
   "source": [
    "# Самый распространенный тип станции\n",
    "df.type.value_counts().index[df.type.value_counts().argmax()]"
   ]
  },
  {
   "cell_type": "code",
   "execution_count": null,
   "metadata": {},
   "outputs": [],
   "source": []
  }
 ],
 "metadata": {
  "kernelspec": {
   "display_name": "base",
   "language": "python",
   "name": "python3"
  },
  "language_info": {
   "codemirror_mode": {
    "name": "ipython",
    "version": 3
   },
   "file_extension": ".py",
   "mimetype": "text/x-python",
   "name": "python",
   "nbconvert_exporter": "python",
   "pygments_lexer": "ipython3",
   "version": "3.8.8 (default, Apr 13 2021, 15:08:03) [MSC v.1916 64 bit (AMD64)]"
  },
  "vscode": {
   "interpreter": {
    "hash": "d712e6bd5c5efcefb4f401babf127779c52dfe874264660f37e0e9f2f2f007a9"
   }
  }
 },
 "nbformat": 4,
 "nbformat_minor": 4
}
